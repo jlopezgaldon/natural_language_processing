{
 "cells": [
  {
   "cell_type": "markdown",
   "metadata": {},
   "source": [
    "# ACTIVIDAD 4:\n",
    "## EMBEDDINGS Y TRANSFORMERS.\n",
    "#### PARTE 2\n",
    "\n",
    "***\n",
    "\n",
    "### JOSE LÓPEZ GALDÓN\n",
    "\n",
    "***"
   ]
  },
  {
   "cell_type": "markdown",
   "metadata": {},
   "source": [
    "#### Guión de la actividad\n",
    "\n",
    "6. Utilice el notebook de respuestas para preguntas sobre el siguiente texto:\n",
    "\n",
    "\"El palacio fue residencia de la familia real española, la basílica es lugar de  sepultura de los reyes de España y el monasterio –fundado por monjes de  la Orden de San Jerónimo– está ocupado actualmente por frailes de  la Orden de San Agustín. Es una de las más singulares arquitecturas renacentistas de España y de Europa. Situado en San Lorenzo de El Escorial, ocupa una superficie de 33.327 m², sobre la ladera meridional del monte Abantos, a 1028 m de altitud, en la sierra de Guadarrama. Está gestionado por Patrimonio Nacional. Conocido también como Monasterio de San Lorenzo El Real, o, sencillamente, El Escorial, fue ideado en la segunda mitad del siglo XVI por el rey Felipe II y su arquitecto Juan Bautista de Toledo, aunque posteriormente intervinieron Juan de Herrera, Juan de Minjares, Giovanni Battista Castello El Bergamasco y Francisco de Mora. El rey concibió un gran complejo multifuncional, monacal y palaciego que, plasmado por Juan Bautista de Toledo según el paradigma de la Traza Universal, dio origen al estilo herreriano.\"\n",
    "\n",
    "7. Realice las siguientes preguntas:\n",
    "\n",
    "    - ¿Quién fue el arquitecto del Monasterio?\n",
    "    - ¿Quién fundó el Monasterio?\n",
    "    - ¿A qué altura está?\n",
    "\n",
    "8. Realice la siguiente pregunta en inglés:\n",
    "\n",
    "    - Who was the architect of the Monastery?\n",
    "\n",
    "4. Comente los resultados obtenidos. Haga referencia a las preguntas en más de un idioma y a la utilización de sinónimos en la pregunta y la respuesta"
   ]
  },
  {
   "cell_type": "markdown",
   "metadata": {},
   "source": [
    "***"
   ]
  },
  {
   "cell_type": "markdown",
   "metadata": {},
   "source": [
    "#### Librerías\n",
    "Comenzamos cargando las librerías necesarias para este ejercicio:"
   ]
  },
  {
   "cell_type": "code",
   "execution_count": 1,
   "metadata": {
    "ExecuteTime": {
     "end_time": "2021-05-26T15:19:25.228383Z",
     "start_time": "2021-05-26T15:19:17.759937Z"
    }
   },
   "outputs": [
    {
     "name": "stderr",
     "output_type": "stream",
     "text": [
      "C:\\Users\\jlope\\anaconda3\\lib\\site-packages\\torchaudio\\extension\\extension.py:13: UserWarning: torchaudio C++ extension is not available.\n",
      "  warnings.warn('torchaudio C++ extension is not available.')\n",
      "C:\\Users\\jlope\\anaconda3\\lib\\site-packages\\torchaudio\\backend\\utils.py:89: UserWarning: No audio backend is available.\n",
      "  warnings.warn('No audio backend is available.')\n"
     ]
    }
   ],
   "source": [
    "    # Cargamos la libería transformers\n",
    "from transformers import pipeline\n",
    "\n",
    "    # Cargamos TextBlob\n",
    "from textblob import TextBlob\n",
    "\n",
    "    # Creamos el pipeline para analizar los sentimientos\n",
    "question_answerer = pipeline ('question-answering')"
   ]
  },
  {
   "cell_type": "markdown",
   "metadata": {},
   "source": [
    "#### Cargamos el texto\n",
    "\n",
    "Lo primero que realizaremos será cargar el texto:"
   ]
  },
  {
   "cell_type": "code",
   "execution_count": 2,
   "metadata": {
    "ExecuteTime": {
     "end_time": "2021-05-26T15:19:25.244387Z",
     "start_time": "2021-05-26T15:19:25.229384Z"
    }
   },
   "outputs": [],
   "source": [
    "texto = \"El palacio fue residencia de la familia real española, la basílica es lugar de sepultura de los reyes de España y el monasterio –fundado por monjes de la Orden de San Jerónimo– está ocupado actualmente por frailes de la Orden de San Agustín. Es una de las más singulares arquitecturas renacentistas de España y de Europa. Situado en San Lorenzo de El Escorial, ocupa una superficie de 33 327 m², sobre la ladera meridional del monte Abantos, a 1028 m de altitud, en la sierra de Guadarrama. Está gestionado por Patrimonio Nacional. Conocido también como Monasterio de San Lorenzo El Real, o, sencillamente, El Escorial, fue ideado en la segunda mitad del siglo XVI por el rey Felipe II y su arquitecto Juan Bautista de Toledo, aunque posteriormente intervinieron Juan de Herrera, Juan de Minjares, Giovanni Battista Castello El Bergamasco y Francisco de Mora. El rey concibió un gran complejo multifuncional, monacal y palaciego que, plasmado por Juan Bautista de Toledo según el paradigma de la Traza Universal, dio origen al estilo herreriano.\""
   ]
  },
  {
   "cell_type": "markdown",
   "metadata": {},
   "source": [
    "#### Lanzamos las preguntas en español"
   ]
  },
  {
   "cell_type": "code",
   "execution_count": 3,
   "metadata": {
    "ExecuteTime": {
     "end_time": "2021-05-26T15:19:25.687994Z",
     "start_time": "2021-05-26T15:19:25.245388Z"
    }
   },
   "outputs": [
    {
     "data": {
      "text/plain": [
       "{'score': 0.11904241889715195,\n",
       " 'start': 532,\n",
       " 'end': 548,\n",
       " 'answer': 'Conocido también'}"
      ]
     },
     "execution_count": 3,
     "metadata": {},
     "output_type": "execute_result"
    }
   ],
   "source": [
    "    # PRIMERA CUESTIÓN. RESPUESTA --> JUAN BAUTISTA DE TOLEDO\n",
    "question_answerer({\n",
    "    \"question\": \"¿Quién fue el arquitecto del Monasterio?\",\n",
    "    \"context\": texto\n",
    "})"
   ]
  },
  {
   "cell_type": "markdown",
   "metadata": {},
   "source": [
    "Esta primera cuestión no ha sido respondida correctamente, además el score es muy bajo por lo que no ha tenido confianza en la respuesta."
   ]
  },
  {
   "cell_type": "code",
   "execution_count": 4,
   "metadata": {
    "ExecuteTime": {
     "end_time": "2021-05-26T15:19:26.101329Z",
     "start_time": "2021-05-26T15:19:25.688994Z"
    }
   },
   "outputs": [
    {
     "data": {
      "text/plain": [
       "{'score': 0.07878970354795456,\n",
       " 'start': 568,\n",
       " 'end': 587,\n",
       " 'answer': 'San Lorenzo El Real'}"
      ]
     },
     "execution_count": 4,
     "metadata": {},
     "output_type": "execute_result"
    }
   ],
   "source": [
    "    # SEGUNDA CUESTIÓN. RESPUESTA --> MONJES DE LA ÓRDEN DE SAN JERÓNIMO\n",
    "question_answerer({\n",
    "    \"question\": \"¿Quién fundó el Monasterio?\",\n",
    "    \"context\": texto\n",
    "})"
   ]
  },
  {
   "cell_type": "markdown",
   "metadata": {
    "ExecuteTime": {
     "end_time": "2021-05-25T17:03:34.431908Z",
     "start_time": "2021-05-25T17:03:34.423916Z"
    }
   },
   "source": [
    "Esta segunda cuestión tampoco ha sido respondida correctamente..."
   ]
  },
  {
   "cell_type": "code",
   "execution_count": 5,
   "metadata": {
    "ExecuteTime": {
     "end_time": "2021-05-26T15:19:26.512421Z",
     "start_time": "2021-05-26T15:19:26.102329Z"
    }
   },
   "outputs": [
    {
     "data": {
      "text/plain": [
       "{'score': 0.0025211770553141832,\n",
       " 'start': 177,\n",
       " 'end': 189,\n",
       " 'answer': 'está ocupado'}"
      ]
     },
     "execution_count": 5,
     "metadata": {},
     "output_type": "execute_result"
    }
   ],
   "source": [
    "    # TERCERA CUESTIÓN. RESPUESTA --> 1028 metros\n",
    "question_answerer({\n",
    "    \"question\": \"¿A qué altura está?\",\n",
    "    \"context\": texto\n",
    "})"
   ]
  },
  {
   "cell_type": "markdown",
   "metadata": {},
   "source": [
    "Esta pregunta también está mal respondida..."
   ]
  },
  {
   "cell_type": "markdown",
   "metadata": {},
   "source": [
    "#### Lanzamos las preguntas en inglés"
   ]
  },
  {
   "cell_type": "code",
   "execution_count": 6,
   "metadata": {
    "ExecuteTime": {
     "end_time": "2021-05-26T15:19:26.926515Z",
     "start_time": "2021-05-26T15:19:26.513422Z"
    }
   },
   "outputs": [
    {
     "data": {
      "text/plain": [
       "{'score': 0.009060611017048359,\n",
       " 'start': 798,\n",
       " 'end': 824,\n",
       " 'answer': 'Giovanni Battista Castello'}"
      ]
     },
     "execution_count": 6,
     "metadata": {},
     "output_type": "execute_result"
    }
   ],
   "source": [
    "    # FIRST QUESTION. ANSWER --> JUAN BAUTISTA DE TOLEDO\n",
    "question_answerer({\n",
    "    \"question\": \"Who was the architect of the Monastery?\",\n",
    "    \"context\": texto\n",
    "})"
   ]
  },
  {
   "cell_type": "markdown",
   "metadata": {},
   "source": [
    "La respuesta también es incorrecta... Ahora, probaremos a traducir el texto en inglés con `TextBlob` y lanzaremos cuestiones para ver si las resuelve correctamente:"
   ]
  },
  {
   "cell_type": "code",
   "execution_count": 7,
   "metadata": {
    "ExecuteTime": {
     "end_time": "2021-05-26T15:19:26.988529Z",
     "start_time": "2021-05-26T15:19:26.927515Z"
    }
   },
   "outputs": [
    {
     "name": "stdout",
     "output_type": "stream",
     "text": [
      "The palace was the residence of the Spanish royal family, the basilica is the burial place of the kings of Spain and the monastery –founded by monks of the Order of Saint Jerome– is currently occupied by friars of the Order of Saint Augustine. It is one of the most unique Renaissance architectures in Spain and Europe. Located in San Lorenzo de El Escorial, it occupies an area of ​​33,327 m², on the southern slope of Mount Abantos, at an altitude of 1,028 m, in the Sierra de Guadarrama. It is managed by National Heritage. Also known as the Monastery of San Lorenzo El Real, or simply El Escorial, it was devised in the second half of the 16th century by King Felipe II and his architect Juan Bautista de Toledo, although later Juan de Herrera, Juan de Minjares, Giovanni Battista Castello El Bergamasco and Francisco de Mora. The king conceived a great multifunctional, monastic and palatial complex that, shaped by Juan Bautista de Toledo according to the paradigm of the Universal Trace, gave rise to the Herrerian style.\n"
     ]
    }
   ],
   "source": [
    "    # Traducimos el texto\n",
    "blob = TextBlob(\"El palacio fue residencia de la familia real española, la basílica es lugar de sepultura de los reyes de España y el monasterio –fundado por monjes de la Orden de San Jerónimo– está ocupado actualmente por frailes de la Orden de San Agustín. Es una de las más singulares arquitecturas renacentistas de España y de Europa. Situado en San Lorenzo de El Escorial, ocupa una superficie de 33 327 m², sobre la ladera meridional del monte Abantos, a 1028 m de altitud, en la sierra de Guadarrama. Está gestionado por Patrimonio Nacional. Conocido también como Monasterio de San Lorenzo El Real, o, sencillamente, El Escorial, fue ideado en la segunda mitad del siglo XVI por el rey Felipe II y su arquitecto Juan Bautista de Toledo, aunque posteriormente intervinieron Juan de Herrera, Juan de Minjares, Giovanni Battista Castello El Bergamasco y Francisco de Mora. El rey concibió un gran complejo multifuncional, monacal y palaciego que, plasmado por Juan Bautista de Toledo según el paradigma de la Traza Universal, dio origen al estilo herreriano.\")\n",
    "\n",
    "print(blob.translate(to='en'))"
   ]
  },
  {
   "cell_type": "markdown",
   "metadata": {},
   "source": [
    "Vamos a probar con unar de cuestiones:"
   ]
  },
  {
   "cell_type": "code",
   "execution_count": 8,
   "metadata": {
    "ExecuteTime": {
     "end_time": "2021-05-26T15:19:27.004532Z",
     "start_time": "2021-05-26T15:19:26.989529Z"
    }
   },
   "outputs": [],
   "source": [
    "    # Cargamos el texto\n",
    "text = \"The palace was the residence of the Spanish royal family, the basilica is the burial place of the kings of Spain and the monastery –founded by monks of the Order of Saint Jerome– is currently occupied by friars of the Order of Saint Augustine. It is one of the most unique Renaissance architectures in Spain and Europe. Located in San Lorenzo de El Escorial, it occupies an area of ​​33,327 m², on the southern slope of Mount Abantos, at an altitude of 1,028 m, in the Sierra de Guadarrama. It is managed by National Heritage. Also known as the Monastery of San Lorenzo El Real, or simply El Escorial, it was devised in the second half of the 16th century by King Felipe II and his architect Juan Bautista de Toledo, although later Juan de Herrera, Juan de Minjares, Giovanni Battista Castello El Bergamasco and Francisco de Mora. The king conceived a great multifunctional, monastic and palatial complex that, shaped by Juan Bautista de Toledo according to the paradigm of the Universal Trace, gave rise to the Herrerian style.\""
   ]
  },
  {
   "cell_type": "code",
   "execution_count": 9,
   "metadata": {
    "ExecuteTime": {
     "end_time": "2021-05-26T15:19:27.292597Z",
     "start_time": "2021-05-26T15:19:27.005532Z"
    }
   },
   "outputs": [
    {
     "data": {
      "text/plain": [
       "{'score': 0.8753286600112915,\n",
       " 'start': 692,\n",
       " 'end': 715,\n",
       " 'answer': 'Juan Bautista de Toledo'}"
      ]
     },
     "execution_count": 9,
     "metadata": {},
     "output_type": "execute_result"
    }
   ],
   "source": [
    "    # FIRST QUESTION. ANSWER --> JUAN BAUTISTA DE TOLEDO\n",
    "question_answerer({\n",
    "    \"question\": \"Who was the architect of the Monastery?\",\n",
    "    \"context\": text\n",
    "})"
   ]
  },
  {
   "cell_type": "markdown",
   "metadata": {},
   "source": [
    "¡Ahora si es correcta!"
   ]
  },
  {
   "cell_type": "code",
   "execution_count": 10,
   "metadata": {
    "ExecuteTime": {
     "end_time": "2021-05-26T15:19:27.580664Z",
     "start_time": "2021-05-26T15:19:27.293597Z"
    }
   },
   "outputs": [
    {
     "data": {
      "text/plain": [
       "{'score': 0.9064867496490479,\n",
       " 'start': 143,\n",
       " 'end': 177,\n",
       " 'answer': 'monks of the Order of Saint Jerome'}"
      ]
     },
     "execution_count": 10,
     "metadata": {},
     "output_type": "execute_result"
    }
   ],
   "source": [
    "    # SECOND QUESTION. ANSWER --> MONKS OF THE ORDER OF SAINT JEROME\n",
    "question_answerer({\n",
    "    \"question\": \"Who founded the monestary?\",\n",
    "    \"context\": text\n",
    "})"
   ]
  },
  {
   "cell_type": "markdown",
   "metadata": {},
   "source": [
    "¡Esta cuestión vuelve a ser correcta!"
   ]
  },
  {
   "cell_type": "code",
   "execution_count": 11,
   "metadata": {
    "ExecuteTime": {
     "end_time": "2021-05-26T15:19:27.868729Z",
     "start_time": "2021-05-26T15:19:27.581664Z"
    }
   },
   "outputs": [
    {
     "data": {
      "text/plain": [
       "{'score': 0.8386270999908447,\n",
       " 'start': 331,\n",
       " 'end': 357,\n",
       " 'answer': 'San Lorenzo de El Escorial'}"
      ]
     },
     "execution_count": 11,
     "metadata": {},
     "output_type": "execute_result"
    }
   ],
   "source": [
    "    # THIRD QUESTION. ANSWER --> SAN LORENZO DE EL ESCORIAL\n",
    "question_answerer({\n",
    "    \"question\": \"Where is the Monastery located?\",\n",
    "    \"context\": text\n",
    "})"
   ]
  },
  {
   "cell_type": "markdown",
   "metadata": {},
   "source": [
    "Como podemos observar ha respondido correctamente a las cuestiones planteadas."
   ]
  },
  {
   "cell_type": "markdown",
   "metadata": {},
   "source": [
    "***"
   ]
  },
  {
   "cell_type": "markdown",
   "metadata": {},
   "source": [
    "### Conclusiones"
   ]
  },
  {
   "cell_type": "markdown",
   "metadata": {},
   "source": [
    "Los resultados obtenidos con el texto original (en español) han sido poco satisfactorios, ya que no ha respondido a las preguntas correctamente... Ni al plantear las cuestiones en castellano ni al hacerlo en inglés. Es por ello, que hemos planteado traducir el texto con el objetivo de detirminar el *performance* de la librería con un texto en inglés.\n",
    "\n",
    "Al realizar la traducción los resultados han sido positivos, respondiendo a las tres cuestiones de manera correcta, rápido y con la respuesta esperada (sin añadir o excluir información relevante de la respuesta).\n",
    "\n",
    "Por lo tanto, es una librería que funciona correctamente en inglés pero tiene altas carencias con el castellano."
   ]
  },
  {
   "cell_type": "markdown",
   "metadata": {},
   "source": [
    "***"
   ]
  },
  {
   "cell_type": "markdown",
   "metadata": {},
   "source": [
    "***"
   ]
  }
 ],
 "metadata": {
  "kernelspec": {
   "display_name": "Python 3",
   "language": "python",
   "name": "python3"
  },
  "language_info": {
   "codemirror_mode": {
    "name": "ipython",
    "version": 3
   },
   "file_extension": ".py",
   "mimetype": "text/x-python",
   "name": "python",
   "nbconvert_exporter": "python",
   "pygments_lexer": "ipython3",
   "version": "3.8.5"
  }
 },
 "nbformat": 4,
 "nbformat_minor": 4
}
