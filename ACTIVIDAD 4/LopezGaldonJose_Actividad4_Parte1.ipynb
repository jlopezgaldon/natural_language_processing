{
 "cells": [
  {
   "cell_type": "markdown",
   "metadata": {},
   "source": [
    "# ACTIVIDAD 4:\n",
    "## EMBEDDINGS Y TRANSFORMERS.\n",
    "#### PARTE 1\n",
    "\n",
    "***\n",
    "\n",
    "### JOSE LÓPEZ GALDÓN\n",
    "\n",
    "***"
   ]
  },
  {
   "cell_type": "markdown",
   "metadata": {},
   "source": [
    "#### Guión de la actividad\n",
    "\n",
    "1. En primer lugar, instale la librería **transformers** de **Humming Face**.  Dispone de instrucciones de instalación en el GitHub de la compañía,  en https://github.com/huggingface/transformers. Recomendamos  utilizar la opción **conda** para instalarla\n",
    "\n",
    "2. Cree un notebook para hacer análisis de sentimientos y otro para  encontrar respuestas a preguntas. Dispone de ejemplos en el github  de **Humming Face** y en las trasparencias de clase.\n",
    "\n",
    "\n",
    "3. Utilice el notebook de análisis de sentimientos para analizar frases en inglés de los siguientes tipos:\n",
    "\n",
    "    - Una frase que no tenga opinión, solamente información\n",
    "    - Una frase con una negación de un sentimiento\n",
    "    - Una frase con ironía\n",
    "\n",
    "\n",
    "4. Dado que la librería **transformers** es multilingüe realice el mismo trabajo con frases en español.\n",
    "\n",
    "\n",
    "5. Comente los resultados obtenidos en los dos puntos anteriores."
   ]
  },
  {
   "cell_type": "markdown",
   "metadata": {},
   "source": [
    "***"
   ]
  },
  {
   "cell_type": "markdown",
   "metadata": {},
   "source": [
    "#### Librerías\n",
    "Comenzamos cargando las librerías necesarias para este ejercicio:"
   ]
  },
  {
   "cell_type": "code",
   "execution_count": 1,
   "metadata": {
    "ExecuteTime": {
     "end_time": "2021-05-25T16:49:43.591908Z",
     "start_time": "2021-05-25T16:49:37.113997Z"
    }
   },
   "outputs": [
    {
     "name": "stderr",
     "output_type": "stream",
     "text": [
      "C:\\Users\\jlope\\anaconda3\\lib\\site-packages\\torchaudio\\extension\\extension.py:13: UserWarning: torchaudio C++ extension is not available.\n",
      "  warnings.warn('torchaudio C++ extension is not available.')\n",
      "C:\\Users\\jlope\\anaconda3\\lib\\site-packages\\torchaudio\\backend\\utils.py:89: UserWarning: No audio backend is available.\n",
      "  warnings.warn('No audio backend is available.')\n"
     ]
    }
   ],
   "source": [
    "    # Cargamos la libería transformers\n",
    "from transformers import pipeline\n",
    "\n",
    "    # Creamos el pipeline para analizar los sentimientos\n",
    "classifier = pipeline(\"sentiment-analysis\")"
   ]
  },
  {
   "cell_type": "markdown",
   "metadata": {},
   "source": [
    "#### Prueba de frases en inglés\n",
    "\n",
    "A continuación, probaremos tres frases en inglés para observar su rendimiento:"
   ]
  },
  {
   "cell_type": "code",
   "execution_count": 2,
   "metadata": {
    "ExecuteTime": {
     "end_time": "2021-05-25T16:49:43.638919Z",
     "start_time": "2021-05-25T16:49:43.592919Z"
    }
   },
   "outputs": [
    {
     "data": {
      "text/plain": [
       "[{'label': 'NEGATIVE', 'score': 0.933555543422699}]"
      ]
     },
     "execution_count": 2,
     "metadata": {},
     "output_type": "execute_result"
    }
   ],
   "source": [
    "    # FRASE SIN OPINIÓN\n",
    "classifier(\"Water boils at 100 degrees\")"
   ]
  },
  {
   "cell_type": "code",
   "execution_count": 3,
   "metadata": {
    "ExecuteTime": {
     "end_time": "2021-05-25T16:49:43.669927Z",
     "start_time": "2021-05-25T16:49:43.639921Z"
    }
   },
   "outputs": [
    {
     "data": {
      "text/plain": [
       "[{'label': 'NEGATIVE', 'score': 0.9988540410995483}]"
      ]
     },
     "execution_count": 3,
     "metadata": {},
     "output_type": "execute_result"
    }
   ],
   "source": [
    "    # FRASE CON UNA NEGACIÓN DE UN SENTIMIENTO\n",
    "classifier(\"Today is not the happiest day of my life\")"
   ]
  },
  {
   "cell_type": "code",
   "execution_count": 4,
   "metadata": {
    "ExecuteTime": {
     "end_time": "2021-05-25T16:49:43.701933Z",
     "start_time": "2021-05-25T16:49:43.670926Z"
    }
   },
   "outputs": [
    {
     "data": {
      "text/plain": [
       "[{'label': 'POSITIVE', 'score': 0.9997025728225708}]"
      ]
     },
     "execution_count": 4,
     "metadata": {},
     "output_type": "execute_result"
    }
   ],
   "source": [
    "    # FRASE CON IRONÍA\n",
    "classifier(\"Thanks for the fine, that's all I needed\")"
   ]
  },
  {
   "cell_type": "markdown",
   "metadata": {},
   "source": [
    "##### Resultados:\n",
    "\n",
    "En este caso, la frase sin opinión la ha calificado como negativa con una confianza bastante elevada... Lo cual nos indica que con frases sin sentimiento, no parece funcionar muy bien.\n",
    "\n",
    "En cuanto a la negación del sentimiento, si parece clasificarla de manera correcta. Además, la confianza es superior que en el caso anterior.\n",
    "\n",
    "Por último, como era de esperar la ironía no la capta bien..."
   ]
  },
  {
   "cell_type": "markdown",
   "metadata": {
    "ExecuteTime": {
     "end_time": "2021-05-25T16:39:25.012177Z",
     "start_time": "2021-05-25T16:39:25.002184Z"
    }
   },
   "source": [
    "***"
   ]
  },
  {
   "cell_type": "markdown",
   "metadata": {},
   "source": [
    "#### Prueba de frases en español\n",
    "\n",
    "Para las frases en español, lanzaremos las mismas sentancias que inglés para comparar los resultados en distintos idiomas. Además, incorporaremos tres nuevas sentancias para observar el resultado."
   ]
  },
  {
   "cell_type": "code",
   "execution_count": 5,
   "metadata": {
    "ExecuteTime": {
     "end_time": "2021-05-25T16:49:43.733940Z",
     "start_time": "2021-05-25T16:49:43.702934Z"
    }
   },
   "outputs": [
    {
     "data": {
      "text/plain": [
       "[{'label': 'POSITIVE', 'score': 0.9907333850860596}]"
      ]
     },
     "execution_count": 5,
     "metadata": {},
     "output_type": "execute_result"
    }
   ],
   "source": [
    "    # FRASE SIN OPINIÓN\n",
    "classifier(\"El agua hierve a 100 grados\")"
   ]
  },
  {
   "cell_type": "code",
   "execution_count": 6,
   "metadata": {
    "ExecuteTime": {
     "end_time": "2021-05-25T16:49:43.765948Z",
     "start_time": "2021-05-25T16:49:43.734940Z"
    }
   },
   "outputs": [
    {
     "data": {
      "text/plain": [
       "[{'label': 'NEGATIVE', 'score': 0.9728505611419678}]"
      ]
     },
     "execution_count": 6,
     "metadata": {},
     "output_type": "execute_result"
    }
   ],
   "source": [
    "    # FRASE CON UNA NEGACIÓN DE UN SENTIMIENTO\n",
    "classifier(\"Hoy no es el día más feliz de mi vida\")"
   ]
  },
  {
   "cell_type": "code",
   "execution_count": 7,
   "metadata": {
    "ExecuteTime": {
     "end_time": "2021-05-25T16:49:43.797955Z",
     "start_time": "2021-05-25T16:49:43.766948Z"
    }
   },
   "outputs": [
    {
     "data": {
      "text/plain": [
       "[{'label': 'NEGATIVE', 'score': 0.7004662752151489}]"
      ]
     },
     "execution_count": 7,
     "metadata": {},
     "output_type": "execute_result"
    }
   ],
   "source": [
    "    # FRASE CON IRONÍA\n",
    "classifier(\"Gracias por la multa, es lo que me faltaba\")"
   ]
  },
  {
   "cell_type": "markdown",
   "metadata": {},
   "source": [
    "##### Resultados:\n",
    "\n",
    "En este caso, los resultados de la frase sin opinión y la frase con ironía han mejorado respecto al inglés. Sin embargo, en la que tiene ironía vemos una caída del *score* (confianza del sentimiento), lo que nos puede dar a entender que es una casualidad. Es por ello, que probaremos con tres nuevas frases en castellano..."
   ]
  },
  {
   "cell_type": "code",
   "execution_count": 8,
   "metadata": {
    "ExecuteTime": {
     "end_time": "2021-05-25T16:49:43.829963Z",
     "start_time": "2021-05-25T16:49:43.798955Z"
    }
   },
   "outputs": [
    {
     "data": {
      "text/plain": [
       "[{'label': 'POSITIVE', 'score': 0.8130162358283997}]"
      ]
     },
     "execution_count": 8,
     "metadata": {},
     "output_type": "execute_result"
    }
   ],
   "source": [
    "    # FRASE SIN OPINIÓN\n",
    "classifier(\"El fuego quema\")"
   ]
  },
  {
   "cell_type": "code",
   "execution_count": 9,
   "metadata": {
    "ExecuteTime": {
     "end_time": "2021-05-25T16:49:43.861969Z",
     "start_time": "2021-05-25T16:49:43.830962Z"
    }
   },
   "outputs": [
    {
     "data": {
      "text/plain": [
       "[{'label': 'NEGATIVE', 'score': 0.9698506593704224}]"
      ]
     },
     "execution_count": 9,
     "metadata": {},
     "output_type": "execute_result"
    }
   ],
   "source": [
    "    # FRASE CON UNA NEGACIÓN DE UN SENTIMIENTO\n",
    "classifier(\"No puedo ocultar mi tristeza\")"
   ]
  },
  {
   "cell_type": "code",
   "execution_count": 10,
   "metadata": {
    "ExecuteTime": {
     "end_time": "2021-05-25T16:49:43.892977Z",
     "start_time": "2021-05-25T16:49:43.862969Z"
    }
   },
   "outputs": [
    {
     "data": {
      "text/plain": [
       "[{'label': 'NEGATIVE', 'score': 0.9421191215515137}]"
      ]
     },
     "execution_count": 10,
     "metadata": {},
     "output_type": "execute_result"
    }
   ],
   "source": [
    "    # FRASE CON IRONÍA\n",
    "classifier(\"Una estación de bomberos se quema\")"
   ]
  },
  {
   "cell_type": "markdown",
   "metadata": {},
   "source": [
    "##### Resultados:\n",
    "\n",
    "En este caso, la frase sin opinión ha vuelto a indicar que es positiva, pero con menor puntuación.\n",
    "\n",
    "En cuanto a la negación del sentimiento, la hace de manera correcta y con una alta confianza.\n",
    "\n",
    "Por último, la ironía parece que es un poco aleatoria, ya que está frase es irónica de manera sustancial pero no indica sentimiento, es decir, es informativa por lo que no debería clasificarla con tanta confianza como negativa."
   ]
  },
  {
   "cell_type": "markdown",
   "metadata": {},
   "source": [
    "***"
   ]
  },
  {
   "cell_type": "markdown",
   "metadata": {},
   "source": [
    "### Conclusiones"
   ]
  },
  {
   "cell_type": "markdown",
   "metadata": {},
   "source": [
    "En general los resultados son satisfactorios, ya que clasifica correctamente los sentimientos. Sin embargo, es cierto que faltaría incluir un tercer posicionamiento en cuanto a \"LABEL\" que indicase \"OPINION\" ya que hay frases que no pueden considerarse positivas ni negativas, por lo que deberían clasificarse en una nueva categoría que indicase opinión.\n",
    "\n",
    "Además, la libería parece funcionar de manera correcta en español y en inglés por lo que es un punto fuerte a su favor."
   ]
  },
  {
   "cell_type": "markdown",
   "metadata": {},
   "source": [
    "***"
   ]
  },
  {
   "cell_type": "markdown",
   "metadata": {},
   "source": [
    "***"
   ]
  }
 ],
 "metadata": {
  "kernelspec": {
   "display_name": "Python 3",
   "language": "python",
   "name": "python3"
  },
  "language_info": {
   "codemirror_mode": {
    "name": "ipython",
    "version": 3
   },
   "file_extension": ".py",
   "mimetype": "text/x-python",
   "name": "python",
   "nbconvert_exporter": "python",
   "pygments_lexer": "ipython3",
   "version": "3.8.5"
  }
 },
 "nbformat": 4,
 "nbformat_minor": 4
}
